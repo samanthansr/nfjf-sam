{
 "cells": [
  {
   "cell_type": "code",
   "execution_count": 120,
   "metadata": {},
   "outputs": [],
   "source": [
    "import numpy as np\n",
    "np.set_printoptions(suppress=True)\n",
    "\n",
    "import pandas as pd\n",
    "pd.set_option('display.max_colwidth', -1)\n",
    "\n",
    "import matplotlib.pyplot as plt\n",
    "%matplotlib inline\n",
    "%config InlineBackend.figure_format='retina'\n",
    "import seaborn as sns\n",
    "sns.set_style('white')\n",
    "\n",
    "from sklearn.model_selection import StratifiedShuffleSplit, ShuffleSplit\n",
    "\n",
    "import json\n",
    "from pprint import pprint\n",
    "from functools import reduce\n",
    "\n",
    "import keras\n",
    "from keras.preprocessing import image\n",
    "from keras_preprocessing.image import ImageDataGenerator\n",
    "from keras.models import Sequential\n",
    "from keras.layers import Conv2D, MaxPooling2D, Flatten, Dense, Dropout\n",
    "\n",
    "# from shopee_challenge_customlib import get_attributes_lookup"
   ]
  },
  {
   "cell_type": "code",
   "execution_count": 2,
   "metadata": {},
   "outputs": [],
   "source": [
    "mobile_info_train = pd.read_csv('./dataset/mobile_data_info_train_competition.csv')\n",
    "mobile_info_test = pd.read_csv('./dataset/mobile_data_info_val_competition.csv')\n",
    "mobile_profile = pd.read_json('./dataset/mobile_profile_train.json')"
   ]
  },
  {
   "cell_type": "code",
   "execution_count": 29,
   "metadata": {},
   "outputs": [],
   "source": [
    "# image_path_ubuntu = '/media/terence/hd_storage/sam/shopee-images'"
   ]
  },
  {
   "cell_type": "code",
   "execution_count": null,
   "metadata": {},
   "outputs": [],
   "source": [
    "def get_attributes_lookup(df):\n",
    "    \n",
    "    attributes_lookup = {}\n",
    "    num_total_categories = 0\n",
    "    \n",
    "    for attribute in df.columns:\n",
    "        num_categories_per_attribute = 0\n",
    "        \n",
    "        cat_keys = df[attribute][df[attribute].notnull()].values\n",
    "        cat_values = df[attribute][df[attribute].notnull()].index\n",
    "        attributes_lookup[attribute] = dict(zip(cat_keys, cat_values))\n",
    "        \n",
    "        num_total_categories += len(cat_keys)\n",
    "        \n",
    "    if num_total_categories > len(df):\n",
    "        print('1 profile type falls under more than attribute. Manually check profiles.')\n",
    "        print('No. of df rows: ', len(df))\n",
    "        print('No. of categories: ', num_total_categories)\n",
    "    elif num_total_categories < len(df):\n",
    "        print('Some rows in original dataframe might be unaccounted for or entirely composed of NaNs. Check input df.')\n",
    "        print('No. of df rows: ', len(df))\n",
    "        print('No. of categories: ', num_total_categories)\n",
    "    elif num_total_categories == len(df):\n",
    "        print('All good. Number of lookup categories == rows in input df.')\n",
    "        \n",
    "    return attributes_lookup"
   ]
  },
  {
   "cell_type": "code",
   "execution_count": 3,
   "metadata": {},
   "outputs": [
    {
     "name": "stdout",
     "output_type": "stream",
     "text": [
      "1 profile type falls under more than attribute. Manually check profiles.\n",
      "No. of df rows:  2433\n",
      "No. of categories:  2443\n"
     ]
    }
   ],
   "source": [
    "mobile_lookup = get_attributes_lookup(mobile_profile)"
   ]
  },
  {
   "cell_type": "code",
   "execution_count": 153,
   "metadata": {},
   "outputs": [],
   "source": [
    "mobile_lookup['Color Family'][26.0] = 'NaN'"
   ]
  },
  {
   "cell_type": "code",
   "execution_count": 4,
   "metadata": {},
   "outputs": [],
   "source": [
    "def factors(n):    \n",
    "    return set(reduce(list.__add__, \n",
    "                ([i, n//i] for i in range(1, int(n**0.5) + 1) if n % i == 0)))"
   ]
  },
  {
   "cell_type": "code",
   "execution_count": 5,
   "metadata": {},
   "outputs": [],
   "source": [
    "def preprocess_df_for_image(df, attribute=None):\n",
    "    \n",
    "    try: \n",
    "        transformed = df[['itemid', 'image_path', attribute]].copy()\n",
    "        #change this to regex later\n",
    "        transformed['image_path'] = transformed['image_path'].apply(lambda x: \n",
    "                                                                    x[len('mobile_image/'):])\n",
    "        \n",
    "        nan_label = df[attribute].max() + 1\n",
    "        transformed[attribute].fillna(nan_label, inplace=True)\n",
    "        \n",
    "        ohe = pd.DataFrame(keras.utils.to_categorical(transformed[attribute]))\n",
    "        \n",
    "        transformed = pd.concat([transformed, ohe], axis=1)\n",
    "        \n",
    "    except KeyError: \n",
    "        transformed = df[['itemid', 'image_path']].copy()\n",
    "        #change this to regex later\n",
    "        transformed['image_path'] = transformed['image_path'].apply(lambda x: \n",
    "                                                                    x[len('mobile_image/'):])\n",
    "        \n",
    "    return transformed"
   ]
  },
  {
   "cell_type": "code",
   "execution_count": 9,
   "metadata": {},
   "outputs": [],
   "source": [
    "# manually train test split\n",
    "def train_val_test_split(vertical_df_train, vertical_df_test, attribute, test_size=0.2):\n",
    "    \n",
    "    test_df = preprocess_df_for_image(vertical_df_test)\n",
    "    attr_df = preprocess_df_for_image(vertical_df_train, attribute)\n",
    "    \n",
    "    # to use stratified shuffle split, must get rid of train labels with only one instance\n",
    "    sss = ShuffleSplit(n_splits=1, test_size=test_size)\n",
    "    \n",
    "    for train_index, val_index in sss.split(np.zeros(len(vertical_df_train)), \n",
    "                                            vertical_df_train[attribute]):\n",
    "        train_df = attr_df.iloc[train_index].reset_index() # must reset index else generator will throw error\n",
    "        val_df = attr_df.iloc[val_index].reset_index()\n",
    "        \n",
    "    print('Train Rows: ', len(train_df))\n",
    "    print('Val Rows: ', len(val_df))\n",
    "    print('Test Rows: ', len(test_df))\n",
    "    \n",
    "    train_prp = train_df[attribute].value_counts()/len(train_df)\n",
    "    val_prp = val_df[attribute].value_counts()/len(val_df)\n",
    "    \n",
    "    prp_comparison = pd.concat([train_prp, val_prp], axis=1, sort=False)\n",
    "    prp_comparison.columns = ['Train', 'Val']\n",
    "    print(prp_comparison)\n",
    " \n",
    "    return train_df, val_df, test_df"
   ]
  },
  {
   "cell_type": "code",
   "execution_count": 22,
   "metadata": {},
   "outputs": [
    {
     "name": "stdout",
     "output_type": "stream",
     "text": [
      "Train Rows:  128264\n",
      "Val Rows:  32066\n",
      "Test Rows:  40417\n",
      "         Train       Val\n",
      "0.0   0.106616  0.108744\n",
      "1.0   0.001965  0.002339\n",
      "2.0   0.004272  0.003836\n",
      "3.0   0.000008 NaN      \n",
      "4.0   0.024489  0.024200\n",
      "6.0   0.005185  0.005707\n",
      "7.0   0.002401  0.002370\n",
      "10.0  0.233199  0.231990\n",
      "11.0  0.001208  0.001279\n",
      "12.0  0.048884  0.050303\n",
      "13.0  0.043761  0.043223\n",
      "14.0  0.002386  0.002089\n",
      "16.0  0.000405  0.000343\n",
      "17.0  0.000133  0.000187\n",
      "18.0  0.000507  0.000437\n",
      "19.0  0.034983  0.034585\n",
      "20.0  0.014821  0.014283\n",
      "22.0  0.000031 NaN      \n",
      "23.0  0.000008 NaN      \n",
      "24.0  0.000008 NaN      \n",
      "25.0  0.003703  0.003711\n",
      "26.0  0.471029  0.470374\n"
     ]
    }
   ],
   "source": [
    "colorfam_img_train, colorfam_img_val, colorfam_img_test = train_val_test_split(mobile_info_train, \n",
    "                                                                               mobile_info_test, \n",
    "                                                                               'Color Family', \n",
    "                                                                               0.2)"
   ]
  },
  {
   "cell_type": "code",
   "execution_count": 23,
   "metadata": {},
   "outputs": [
    {
     "data": {
      "text/html": [
       "<div>\n",
       "<style scoped>\n",
       "    .dataframe tbody tr th:only-of-type {\n",
       "        vertical-align: middle;\n",
       "    }\n",
       "\n",
       "    .dataframe tbody tr th {\n",
       "        vertical-align: top;\n",
       "    }\n",
       "\n",
       "    .dataframe thead th {\n",
       "        text-align: right;\n",
       "    }\n",
       "</style>\n",
       "<table border=\"1\" class=\"dataframe\">\n",
       "  <thead>\n",
       "    <tr style=\"text-align: right;\">\n",
       "      <th></th>\n",
       "      <th>index</th>\n",
       "      <th>itemid</th>\n",
       "      <th>image_path</th>\n",
       "      <th>Color Family</th>\n",
       "      <th>0</th>\n",
       "      <th>1</th>\n",
       "      <th>2</th>\n",
       "      <th>3</th>\n",
       "      <th>4</th>\n",
       "      <th>5</th>\n",
       "      <th>...</th>\n",
       "      <th>17</th>\n",
       "      <th>18</th>\n",
       "      <th>19</th>\n",
       "      <th>20</th>\n",
       "      <th>21</th>\n",
       "      <th>22</th>\n",
       "      <th>23</th>\n",
       "      <th>24</th>\n",
       "      <th>25</th>\n",
       "      <th>26</th>\n",
       "    </tr>\n",
       "  </thead>\n",
       "  <tbody>\n",
       "    <tr>\n",
       "      <th>0</th>\n",
       "      <td>112145</td>\n",
       "      <td>1296556499</td>\n",
       "      <td>78bfceb713a18c94595f84f5bb19feda.jpg</td>\n",
       "      <td>26.0</td>\n",
       "      <td>0.0</td>\n",
       "      <td>0.0</td>\n",
       "      <td>0.0</td>\n",
       "      <td>0.0</td>\n",
       "      <td>0.0</td>\n",
       "      <td>0.0</td>\n",
       "      <td>...</td>\n",
       "      <td>0.0</td>\n",
       "      <td>0.0</td>\n",
       "      <td>0.0</td>\n",
       "      <td>0.0</td>\n",
       "      <td>0.0</td>\n",
       "      <td>0.0</td>\n",
       "      <td>0.0</td>\n",
       "      <td>0.0</td>\n",
       "      <td>0.0</td>\n",
       "      <td>1.0</td>\n",
       "    </tr>\n",
       "    <tr>\n",
       "      <th>1</th>\n",
       "      <td>50663</td>\n",
       "      <td>975294142</td>\n",
       "      <td>889fbb6744207a303756ee8b03ab8f44.jpg</td>\n",
       "      <td>10.0</td>\n",
       "      <td>0.0</td>\n",
       "      <td>0.0</td>\n",
       "      <td>0.0</td>\n",
       "      <td>0.0</td>\n",
       "      <td>0.0</td>\n",
       "      <td>0.0</td>\n",
       "      <td>...</td>\n",
       "      <td>0.0</td>\n",
       "      <td>0.0</td>\n",
       "      <td>0.0</td>\n",
       "      <td>0.0</td>\n",
       "      <td>0.0</td>\n",
       "      <td>0.0</td>\n",
       "      <td>0.0</td>\n",
       "      <td>0.0</td>\n",
       "      <td>0.0</td>\n",
       "      <td>0.0</td>\n",
       "    </tr>\n",
       "  </tbody>\n",
       "</table>\n",
       "<p>2 rows × 31 columns</p>\n",
       "</div>"
      ],
      "text/plain": [
       "    index      itemid                            image_path  Color Family  \\\n",
       "0  112145  1296556499  78bfceb713a18c94595f84f5bb19feda.jpg  26.0           \n",
       "1  50663   975294142   889fbb6744207a303756ee8b03ab8f44.jpg  10.0           \n",
       "\n",
       "     0    1    2    3    4    5 ...    17   18   19   20   21   22   23   24  \\\n",
       "0  0.0  0.0  0.0  0.0  0.0  0.0 ...   0.0  0.0  0.0  0.0  0.0  0.0  0.0  0.0   \n",
       "1  0.0  0.0  0.0  0.0  0.0  0.0 ...   0.0  0.0  0.0  0.0  0.0  0.0  0.0  0.0   \n",
       "\n",
       "    25   26  \n",
       "0  0.0  1.0  \n",
       "1  0.0  0.0  \n",
       "\n",
       "[2 rows x 31 columns]"
      ]
     },
     "execution_count": 23,
     "metadata": {},
     "output_type": "execute_result"
    }
   ],
   "source": [
    "colorfam_img_train.head(2)"
   ]
  },
  {
   "cell_type": "code",
   "execution_count": 24,
   "metadata": {},
   "outputs": [],
   "source": [
    "train_datagen = ImageDataGenerator(rescale=1/255, \n",
    "                                   shear_range = 0.2, \n",
    "                                   zoom_range = 0.2,\n",
    "                                   horizontal_flip = True)\n",
    "\n",
    "test_datagen = ImageDataGenerator(rescale=1/255)"
   ]
  },
  {
   "cell_type": "code",
   "execution_count": 25,
   "metadata": {},
   "outputs": [
    {
     "name": "stdout",
     "output_type": "stream",
     "text": [
      "{1, 2, 32066, 64132, 4, 16033, 128264, 8}\n",
      "{1, 32066, 2, 16033}\n",
      "{1, 13, 3109, 40417}\n"
     ]
    }
   ],
   "source": [
    "print(factors(len(colorfam_img_train)))\n",
    "print(factors(len(colorfam_img_val)))\n",
    "print(factors(len(colorfam_img_test)))"
   ]
  },
  {
   "cell_type": "code",
   "execution_count": 37,
   "metadata": {},
   "outputs": [],
   "source": [
    "TRAIN_BATCH_SIZE = 64\n",
    "VAL_BATCH_SIZE = 64\n",
    "TEST_BATCH_SIZE = 13\n",
    "TARGET_SIZE = (8, 8)\n",
    "\n",
    "input_shape = (TARGET_SIZE[0], TARGET_SIZE[1], 3)"
   ]
  },
  {
   "cell_type": "code",
   "execution_count": 28,
   "metadata": {},
   "outputs": [
    {
     "name": "stdout",
     "output_type": "stream",
     "text": [
      "Found 128264 images.\n",
      "Found 32066 images.\n",
      "Found 40417 images.\n"
     ]
    }
   ],
   "source": [
    "# manual split implementation - throws an error\n",
    "# maybe must one hot encode before manually splitting\n",
    "# for other way - can i get the validation set indices?\n",
    "colorfam_train_generator = train_datagen.flow_from_dataframe(dataframe = colorfam_img_train, \n",
    "                                                             directory = './dataset/images/mobile_image',\n",
    "                                                             x_col = 'image_path', \n",
    "                                                             y_col = colorfam_img_train.columns[4:],\n",
    "                                                             shuffle = True,\n",
    "                                                             class_mode = 'other',\n",
    "                                                             target_size = TARGET_SIZE, \n",
    "                                                             batch_size = TRAIN_BATCH_SIZE)\n",
    "\n",
    "colorfam_val_generator = test_datagen.flow_from_dataframe(dataframe = colorfam_img_val, \n",
    "                                                           directory = './dataset/images/mobile_image',\n",
    "                                                           x_col = 'image_path', \n",
    "                                                           y_col = colorfam_img_train.columns[4:], \n",
    "                                                           shuffle = False,\n",
    "                                                           class_mode = 'other',\n",
    "                                                           target_size = TARGET_SIZE, \n",
    "                                                           batch_size = VAL_BATCH_SIZE)\n",
    "\n",
    "colorfam_test_generator = test_datagen.flow_from_dataframe(dataframe = colorfam_img_test,\n",
    "                                                           directory = './dataset/images/mobile_image',\n",
    "                                                           x_col = 'image_path',\n",
    "                                                           y_col = None,\n",
    "                                                           class_mode = None,\n",
    "                                                           shuffle=False,\n",
    "                                                           target_size = TARGET_SIZE,\n",
    "                                                           batch_size = TEST_BATCH_SIZE)\n",
    "\n",
    "# for test generator, batch size has to be exactly divisible by num of samples \n",
    "# so that we don't miss out on any predictions\n",
    "# if in doubt, put batch_size=1, but it'll be super slow\n",
    "# always set Shuffle to False for Test Generator"
   ]
  },
  {
   "cell_type": "code",
   "execution_count": 209,
   "metadata": {},
   "outputs": [
    {
     "name": "stdout",
     "output_type": "stream",
     "text": [
      "Found 128173 images belonging to 22 classes.\n",
      "Found 32157 images belonging to 22 classes.\n",
      "Found 40417 images.\n"
     ]
    }
   ],
   "source": [
    "# # keras validation_split implementation\n",
    "\n",
    "# colorfam_img_train = preprocess_df_for_image(mobile_info_train, 'Color Family')\n",
    "# colorfam_img_test = preprocess_df_for_image(mobile_info_val)\n",
    "\n",
    "# train_datagen = ImageDataGenerator(rescale=1/255, \n",
    "#                                    shear_range = 0.2, \n",
    "#                                    zoom_range = 0.2,\n",
    "#                                    horizontal_flip = True,\n",
    "#                                    validation_split = 0.2)\n",
    "\n",
    "# test_datagen = ImageDataGenerator(rescale=1/255)\n",
    "\n",
    "# colorfam_train_generator = train_datagen.flow_from_dataframe(dataframe = colorfam_img_train, \n",
    "#                                                              directory = './dataset/images/mobile_image',\n",
    "#                                                              x_col = 'image_path', \n",
    "#                                                              y_col = 'Color Family',\n",
    "#                                                              shuffle = True,\n",
    "#                                                              subset='training',\n",
    "#                                                              class_mode = 'categorical',\n",
    "#                                                              target_size = TARGET_SIZE, \n",
    "#                                                              batch_size = TRAIN_BATCH_SIZE)\n",
    "\n",
    "# colorfam_val_generator = train_datagen.flow_from_dataframe(dataframe = colorfam_img_train, \n",
    "#                                                            directory = './dataset/images/mobile_image',\n",
    "#                                                            x_col = 'image_path', \n",
    "#                                                            y_col = 'Color Family',\n",
    "#                                                            subset = 'validation',\n",
    "#                                                            shuffle = True,\n",
    "#                                                            class_mode = 'categorical',\n",
    "#                                                            target_size = TARGET_SIZE, \n",
    "#                                                            batch_size = VAL_BATCH_SIZE)\n",
    "\n",
    "# colorfam_test_generator = test_datagen.flow_from_dataframe(dataframe = colorfam_img_test,\n",
    "#                                                            directory = './dataset/images/mobile_image',\n",
    "#                                                            x_col = 'image_path',\n",
    "#                                                            y_col = None,\n",
    "#                                                            class_mode = None,\n",
    "#                                                            shuffle=False,\n",
    "#                                                            target_size = TARGET_SIZE,\n",
    "#                                                            batch_size = TEST_BATCH_SIZE)\n",
    "\n",
    "# # for test generator, batch size has to be exactly divisible by num of samples \n",
    "# # so that we don't miss out on any predictions\n",
    "# # if in doubt, put batch_size=1, but it'll be super slow\n",
    "# # always set Shuffle to False for Test Generator"
   ]
  },
  {
   "cell_type": "code",
   "execution_count": 32,
   "metadata": {},
   "outputs": [],
   "source": [
    "assert colorfam_train_generator.samples + colorfam_val_generator.samples == mobile_info_train.shape[0]\n",
    "assert colorfam_test_generator.samples == mobile_info_test.shape[0]"
   ]
  },
  {
   "cell_type": "code",
   "execution_count": null,
   "metadata": {},
   "outputs": [],
   "source": []
  },
  {
   "cell_type": "markdown",
   "metadata": {},
   "source": [
    "#### Model"
   ]
  },
  {
   "cell_type": "code",
   "execution_count": 38,
   "metadata": {},
   "outputs": [
    {
     "name": "stdout",
     "output_type": "stream",
     "text": [
      "_________________________________________________________________\n",
      "Layer (type)                 Output Shape              Param #   \n",
      "=================================================================\n",
      "conv2d_9 (Conv2D)            (None, 6, 6, 32)          896       \n",
      "_________________________________________________________________\n",
      "conv2d_10 (Conv2D)           (None, 6, 6, 32)          9248      \n",
      "_________________________________________________________________\n",
      "max_pooling2d_5 (MaxPooling2 (None, 3, 3, 32)          0         \n",
      "_________________________________________________________________\n",
      "conv2d_11 (Conv2D)           (None, 3, 3, 64)          18496     \n",
      "_________________________________________________________________\n",
      "conv2d_12 (Conv2D)           (None, 3, 3, 64)          36928     \n",
      "_________________________________________________________________\n",
      "max_pooling2d_6 (MaxPooling2 (None, 1, 1, 64)          0         \n",
      "_________________________________________________________________\n",
      "flatten_2 (Flatten)          (None, 64)                0         \n",
      "_________________________________________________________________\n",
      "dense_5 (Dense)              (None, 128)               8320      \n",
      "_________________________________________________________________\n",
      "dropout_3 (Dropout)          (None, 128)               0         \n",
      "_________________________________________________________________\n",
      "dense_6 (Dense)              (None, 64)                8256      \n",
      "_________________________________________________________________\n",
      "dense_7 (Dense)              (None, 64)                4160      \n",
      "_________________________________________________________________\n",
      "dropout_4 (Dropout)          (None, 64)                0         \n",
      "_________________________________________________________________\n",
      "dense_8 (Dense)              (None, 27)                1755      \n",
      "=================================================================\n",
      "Total params: 88,059\n",
      "Trainable params: 88,059\n",
      "Non-trainable params: 0\n",
      "_________________________________________________________________\n"
     ]
    }
   ],
   "source": [
    "classifier = Sequential()\n",
    "\n",
    "classifier.add(Conv2D(32, (3,3), input_shape=input_shape, activation='relu'))\n",
    "classifier.add(Conv2D(32, (3,3), padding='same', activation='relu'))\n",
    "classifier.add(MaxPooling2D((2,2)))\n",
    "\n",
    "classifier.add(Conv2D(64, (3,3), padding='same', activation='relu'))\n",
    "classifier.add(Conv2D(64, (3,3), padding='same', activation='relu'))\n",
    "classifier.add(MaxPooling2D((2,2)))\n",
    "\n",
    "classifier.add(Flatten())\n",
    "\n",
    "classifier.add(Dense(units=128, activation='relu'))\n",
    "classifier.add(Dropout(0.6))\n",
    "classifier.add(Dense(units=64, activation='relu'))\n",
    "classifier.add(Dense(units=64, activation='relu'))\n",
    "classifier.add(Dropout(0.3))\n",
    "\n",
    "classifier.add(Dense(units=27, activation='softmax'))\n",
    "\n",
    "classifier.compile(optimizer='adam', loss='categorical_crossentropy', metrics=['accuracy'])\n",
    "\n",
    "classifier.summary()"
   ]
  },
  {
   "cell_type": "code",
   "execution_count": 39,
   "metadata": {},
   "outputs": [
    {
     "name": "stdout",
     "output_type": "stream",
     "text": [
      "Epoch 1/2\n",
      "2005/2005 [==============================] - 583s 291ms/step - loss: 1.6728 - acc: 0.4646 - val_loss: 1.5953 - val_acc: 0.4694\n",
      "Epoch 2/2\n",
      "2005/2005 [==============================] - 584s 291ms/step - loss: 1.6106 - acc: 0.4711 - val_loss: 1.5971 - val_acc: 0.4714\n"
     ]
    }
   ],
   "source": [
    "history = classifier.fit_generator(colorfam_train_generator, \n",
    "                                   steps_per_epoch=colorfam_train_generator.samples//TRAIN_BATCH_SIZE + 1,\n",
    "                                   epochs=2,\n",
    "                                   validation_data=colorfam_val_generator,\n",
    "                                   validation_steps=colorfam_val_generator.samples//TRAIN_BATCH_SIZE + 1, \n",
    "                                   workers=2\n",
    "                                   )"
   ]
  },
  {
   "cell_type": "code",
   "execution_count": 40,
   "metadata": {},
   "outputs": [],
   "source": [
    "classifier.save_weights('mobile_colorfam_weights_v1.h5')"
   ]
  },
  {
   "cell_type": "code",
   "execution_count": 45,
   "metadata": {},
   "outputs": [
    {
     "name": "stdout",
     "output_type": "stream",
     "text": [
      "3109/3109 [==============================] - 302s 97ms/step\n"
     ]
    }
   ],
   "source": [
    "# need to reset the test_generator before whenever you call the predict_generator\n",
    "# If not, will get outputs in a weird order\n",
    "colorfam_test_generator.reset()\n",
    "actual_preds = classifier.predict_generator(colorfam_test_generator, \n",
    "                                            colorfam_test_generator.samples//TEST_BATCH_SIZE, \n",
    "                                            workers=2, \n",
    "                                            verbose=1)"
   ]
  },
  {
   "cell_type": "code",
   "execution_count": 46,
   "metadata": {},
   "outputs": [
    {
     "name": "stdout",
     "output_type": "stream",
     "text": [
      "(40417, 27)\n"
     ]
    }
   ],
   "source": [
    "print(actual_preds.shape)\n",
    "assert actual_preds.shape[0] == len(mobile_info_test)"
   ]
  },
  {
   "cell_type": "code",
   "execution_count": 69,
   "metadata": {},
   "outputs": [
    {
     "name": "stdout",
     "output_type": "stream",
     "text": [
      "Found 32066 images.\n",
      "502/502 [==============================] - 235s 467ms/step\n"
     ]
    }
   ],
   "source": [
    "# check if can get colorfam_val_generator indices\n",
    "# or is it just last 20%\n",
    "colorfam_val_generator = test_datagen.flow_from_dataframe(dataframe = colorfam_img_val, \n",
    "                                                           directory = './dataset/images/mobile_image',\n",
    "                                                           x_col = 'image_path', \n",
    "                                                           y_col = None, \n",
    "                                                           shuffle = False,\n",
    "                                                           class_mode = None,\n",
    "                                                           target_size = TARGET_SIZE, \n",
    "                                                           batch_size = VAL_BATCH_SIZE)\n",
    "\n",
    "\n",
    "colorfam_val_generator.reset()\n",
    "val_preds = classifier.predict_generator(colorfam_val_generator,\n",
    "                                         colorfam_val_generator.samples//VAL_BATCH_SIZE + 1, \n",
    "                                         verbose=1, \n",
    "                                         workers=2)"
   ]
  },
  {
   "cell_type": "code",
   "execution_count": 70,
   "metadata": {},
   "outputs": [
    {
     "name": "stdout",
     "output_type": "stream",
     "text": [
      "(32066, 27)\n"
     ]
    }
   ],
   "source": [
    "print(val_preds.shape)\n",
    "assert val_preds.shape[0] == len(colorfam_img_val)"
   ]
  },
  {
   "cell_type": "code",
   "execution_count": 77,
   "metadata": {},
   "outputs": [],
   "source": [
    "#### Get Preds ####"
   ]
  },
  {
   "cell_type": "code",
   "execution_count": 78,
   "metadata": {},
   "outputs": [],
   "source": [
    "# get labels from the 2 highest probabilities\n",
    "\n",
    "def get_prediction_labels(predict_probas, k):\n",
    "    return np.argsort(predict_probas)[-1:-(k+1):-1]\n",
    "\n",
    "def get_all_preds(predict_probas, k):\n",
    "    \n",
    "    all_labels = []\n",
    "    \n",
    "    for proba in predict_probas:    \n",
    "        first, second = get_prediction_labels(proba, k)\n",
    "        label = '{} {}'.format(first, second)\n",
    "        all_labels.append(label)\n",
    "        \n",
    "    return all_labels"
   ]
  },
  {
   "cell_type": "code",
   "execution_count": 180,
   "metadata": {},
   "outputs": [],
   "source": [
    "# source: https://www.kaggle.com/pestipeti/explanation-of-map5-scoring-metric\n",
    "def map_per_image(label, predictions):\n",
    "    \"\"\"Computes the precision score of one image.\n",
    "\n",
    "    Parameters\n",
    "    ----------\n",
    "    label : string\n",
    "            The true label of the image\n",
    "    predictions : list\n",
    "            A list of predicted elements (order does matter, 2 predictions allowed per image)\n",
    "\n",
    "    Returns\n",
    "    -------\n",
    "    score : double\n",
    "    \"\"\" \n",
    "    label = str(int(label))\n",
    "    predictions = predictions.split(' ') # own code\n",
    "    \n",
    "    try:\n",
    "        return 1 / (predictions[:2].index(label) + 1)\n",
    "    except ValueError:\n",
    "        return 0.0\n",
    "\n",
    "def map_per_set(labels, predictions):\n",
    "    \"\"\"Computes the average over multiple images.\n",
    "\n",
    "    Parameters\n",
    "    ----------\n",
    "    labels : list\n",
    "             A list of the true labels. (Only one true label per images allowed!)\n",
    "    predictions : list of list\n",
    "             A list of predicted elements (order does matter, 2 predictions allowed per image)\n",
    "\n",
    "    Returns\n",
    "    -------\n",
    "    score : double\n",
    "    \"\"\"\n",
    "    return np.mean([map_per_image(l, p) for l,p in zip(labels, predictions)])"
   ]
  },
  {
   "cell_type": "code",
   "execution_count": 116,
   "metadata": {},
   "outputs": [],
   "source": [
    "val_preds_check = colorfam_img_val[['index', 'itemid', 'image_path', 'Color Family']].copy()\n",
    "val_preds_check['preds'] = get_all_preds(val_preds, 2)"
   ]
  },
  {
   "cell_type": "code",
   "execution_count": 163,
   "metadata": {},
   "outputs": [],
   "source": [
    "def view_results(df, row_num):\n",
    "    \n",
    "    image_path = df.iloc[row_num]['image_path']\n",
    "    actual_label = df.iloc[row_num]['Color Family']\n",
    "    predicted_label_1, predicted_label_2 = [float(pred) for pred in df.iloc[row_num]['preds'].split(' ')]\n",
    "    \n",
    "    print('Predicted Attribute: {} ({})'.format(predicted_label_1, mobile_lookup['Color Family'][predicted_label_1]))\n",
    "    print('Predicted Attribute 2: {} ({})'.format(predicted_label_2, mobile_lookup['Color Family'][predicted_label_2]))\n",
    "    print('Actual Label: {} ({})'.format(actual_label, mobile_lookup['Color Family'][actual_label]))\n",
    "    \n",
    "    display(image.load_img('./dataset/images/mobile_image/'+image_path, target_size=(300,300)))"
   ]
  },
  {
   "cell_type": "code",
   "execution_count": 164,
   "metadata": {},
   "outputs": [
    {
     "name": "stdout",
     "output_type": "stream",
     "text": [
      "Predicted Attribute: 26.0 (NaN)\n",
      "Predicted Attribute 2: 10.0 (black)\n",
      "Actual Label: 26.0 (NaN)\n"
     ]
    },
    {
     "data": {
      "image/png": "[encoded data removed]",
      "text/plain": [
       "<PIL.Image.Image image mode=RGB size=300x300 at 0x120260AC8>"
      ]
     },
     "metadata": {},
     "output_type": "display_data"
    }
   ],
   "source": [
    "view_results(val_preds_check, 5000)"
   ]
  },
  {
   "cell_type": "code",
   "execution_count": 113,
   "metadata": {},
   "outputs": [
    {
     "data": {
      "text/plain": [
       "26.0    0.470374\n",
       "10.0    0.231990\n",
       "0.0     0.108744\n",
       "12.0    0.050303\n",
       "13.0    0.043223\n",
       "19.0    0.034585\n",
       "4.0     0.024200\n",
       "20.0    0.014283\n",
       "6.0     0.005707\n",
       "2.0     0.003836\n",
       "25.0    0.003711\n",
       "7.0     0.002370\n",
       "1.0     0.002339\n",
       "14.0    0.002089\n",
       "11.0    0.001279\n",
       "18.0    0.000437\n",
       "16.0    0.000343\n",
       "17.0    0.000187\n",
       "Name: Color Family, dtype: float64"
      ]
     },
     "execution_count": 113,
     "metadata": {},
     "output_type": "execute_result"
    }
   ],
   "source": [
    "# baseline\n",
    "val_preds_check['Color Family'].value_counts()/len(val_preds_check)"
   ]
  },
  {
   "cell_type": "code",
   "execution_count": 114,
   "metadata": {},
   "outputs": [
    {
     "data": {
      "text/plain": [
       "'gold'"
      ]
     },
     "execution_count": 114,
     "metadata": {},
     "output_type": "execute_result"
    }
   ],
   "source": [
    "mobile_lookup['Color Family'][0]"
   ]
  },
  {
   "cell_type": "code",
   "execution_count": 191,
   "metadata": {},
   "outputs": [],
   "source": [
    "# write function to evaluate MAP@2"
   ]
  },
  {
   "cell_type": "code",
   "execution_count": 185,
   "metadata": {},
   "outputs": [
    {
     "data": {
      "text/html": [
       "<div>\n",
       "<style scoped>\n",
       "    .dataframe tbody tr th:only-of-type {\n",
       "        vertical-align: middle;\n",
       "    }\n",
       "\n",
       "    .dataframe tbody tr th {\n",
       "        vertical-align: top;\n",
       "    }\n",
       "\n",
       "    .dataframe thead th {\n",
       "        text-align: right;\n",
       "    }\n",
       "</style>\n",
       "<table border=\"1\" class=\"dataframe\">\n",
       "  <thead>\n",
       "    <tr style=\"text-align: right;\">\n",
       "      <th></th>\n",
       "      <th>index</th>\n",
       "      <th>itemid</th>\n",
       "      <th>image_path</th>\n",
       "      <th>Color Family</th>\n",
       "      <th>preds</th>\n",
       "    </tr>\n",
       "  </thead>\n",
       "  <tbody>\n",
       "    <tr>\n",
       "      <th>15913</th>\n",
       "      <td>67578</td>\n",
       "      <td>1058601793</td>\n",
       "      <td>080dab621993dbd146a8792002a51f68.jpg</td>\n",
       "      <td>26.0</td>\n",
       "      <td>26 10</td>\n",
       "    </tr>\n",
       "    <tr>\n",
       "      <th>4214</th>\n",
       "      <td>38336</td>\n",
       "      <td>607058297</td>\n",
       "      <td>f4f969382f30e31f04a97f5ace86df55.jpg</td>\n",
       "      <td>10.0</td>\n",
       "      <td>26 10</td>\n",
       "    </tr>\n",
       "    <tr>\n",
       "      <th>15040</th>\n",
       "      <td>23522</td>\n",
       "      <td>1283240990</td>\n",
       "      <td>8d58226fe68360fdff9f405b9df0f66d.jpg</td>\n",
       "      <td>12.0</td>\n",
       "      <td>26 0</td>\n",
       "    </tr>\n",
       "    <tr>\n",
       "      <th>13396</th>\n",
       "      <td>153043</td>\n",
       "      <td>1287583541</td>\n",
       "      <td>ec654c0d0750b935e84a7e9508243fd2.jpg</td>\n",
       "      <td>26.0</td>\n",
       "      <td>26 10</td>\n",
       "    </tr>\n",
       "    <tr>\n",
       "      <th>1347</th>\n",
       "      <td>118390</td>\n",
       "      <td>1693180232</td>\n",
       "      <td>9ed760fdcd5e19ce63c3fcd208994888.jpg</td>\n",
       "      <td>26.0</td>\n",
       "      <td>26 10</td>\n",
       "    </tr>\n",
       "  </tbody>\n",
       "</table>\n",
       "</div>"
      ],
      "text/plain": [
       "        index      itemid                            image_path  Color Family  \\\n",
       "15913  67578   1058601793  080dab621993dbd146a8792002a51f68.jpg  26.0           \n",
       "4214   38336   607058297   f4f969382f30e31f04a97f5ace86df55.jpg  10.0           \n",
       "15040  23522   1283240990  8d58226fe68360fdff9f405b9df0f66d.jpg  12.0           \n",
       "13396  153043  1287583541  ec654c0d0750b935e84a7e9508243fd2.jpg  26.0           \n",
       "1347   118390  1693180232  9ed760fdcd5e19ce63c3fcd208994888.jpg  26.0           \n",
       "\n",
       "       preds  \n",
       "15913  26 10  \n",
       "4214   26 10  \n",
       "15040  26 0   \n",
       "13396  26 10  \n",
       "1347   26 10  "
      ]
     },
     "execution_count": 185,
     "metadata": {},
     "output_type": "execute_result"
    }
   ],
   "source": [
    "val_preds_check.sample(5)"
   ]
  },
  {
   "cell_type": "code",
   "execution_count": 188,
   "metadata": {},
   "outputs": [
    {
     "data": {
      "text/plain": [
       "0.5"
      ]
     },
     "execution_count": 188,
     "metadata": {},
     "output_type": "execute_result"
    }
   ],
   "source": [
    "map_per_image(val_preds_check.loc[4214, 'Color Family'], val_preds_check.loc[4214, 'preds'])"
   ]
  },
  {
   "cell_type": "code",
   "execution_count": 189,
   "metadata": {},
   "outputs": [
    {
     "data": {
      "text/plain": [
       "0.5653807771471341"
      ]
     },
     "execution_count": 189,
     "metadata": {},
     "output_type": "execute_result"
    }
   ],
   "source": [
    "map_per_set(val_preds_check['Color Family'], val_preds_check['preds'])"
   ]
  },
  {
   "cell_type": "code",
   "execution_count": null,
   "metadata": {},
   "outputs": [],
   "source": []
  },
  {
   "cell_type": "code",
   "execution_count": null,
   "metadata": {},
   "outputs": [],
   "source": []
  },
  {
   "cell_type": "code",
   "execution_count": null,
   "metadata": {},
   "outputs": [],
   "source": []
  },
  {
   "cell_type": "code",
   "execution_count": null,
   "metadata": {},
   "outputs": [],
   "source": []
  },
  {
   "cell_type": "markdown",
   "metadata": {},
   "source": [
    "#### Appendix"
   ]
  },
  {
   "cell_type": "code",
   "execution_count": 136,
   "metadata": {},
   "outputs": [],
   "source": [
    "# # taken from https://github.com/benhamner/Metrics/blob/master/Python/ml_metrics/average_precision.py\n",
    "# def apk(actual, predicted, k=10):\n",
    "#     \"\"\"\n",
    "#     Computes the average precision at k.\n",
    "#     This function computes the average prescision at k between two lists of\n",
    "#     items.\n",
    "#     Parameters\n",
    "#     ----------\n",
    "#     actual : list\n",
    "#              A list of elements that are to be predicted (order doesn't matter)\n",
    "#     predicted : list\n",
    "#                 A list of predicted elements (order does matter)\n",
    "#     k : int, optional\n",
    "#         The maximum number of predicted elements\n",
    "#     Returns\n",
    "#     -------\n",
    "#     score : double\n",
    "#             The average precision at k over the input lists\n",
    "#     \"\"\"\n",
    "#     if len(predicted)>k:\n",
    "#         predicted = predicted[:k]\n",
    "\n",
    "#     score = 0.0\n",
    "#     num_hits = 0.0\n",
    "\n",
    "#     for i,p in enumerate(predicted):\n",
    "#         if p in actual and p not in predicted[:i]:\n",
    "#             num_hits += 1.0\n",
    "#             score += num_hits / (i+1.0)\n",
    "\n",
    "#     if not actual:\n",
    "#         return 0.0\n",
    "\n",
    "#     return score / min(len(actual), k)\n",
    "\n",
    "# def mapk(actual, predicted, k=10):\n",
    "#     \"\"\"\n",
    "#     Computes the mean average precision at k.\n",
    "#     This function computes the mean average prescision at k between two lists\n",
    "#     of lists of items.\n",
    "#     Parameters\n",
    "#     ----------\n",
    "#     actual : list\n",
    "#              A list of lists of elements that are to be predicted \n",
    "#              (order doesn't matter in the lists)\n",
    "#     predicted : list\n",
    "#                 A list of lists of predicted elements\n",
    "#                 (order matters in the lists)\n",
    "#     k : int, optional\n",
    "#         The maximum number of predicted elements\n",
    "#     Returns\n",
    "#     -------\n",
    "#     score : double\n",
    "#             The mean average precision at k over the input lists\n",
    "#     \"\"\"\n",
    "#     return np.mean([apk(a,p,k) for a,p in zip(actual, predicted)])"
   ]
  },
  {
   "cell_type": "code",
   "execution_count": null,
   "metadata": {},
   "outputs": [],
   "source": []
  }
 ],
 "metadata": {
  "kernelspec": {
   "display_name": "Python 3",
   "language": "python",
   "name": "python3"
  },
  "language_info": {
   "codemirror_mode": {
    "name": "ipython",
    "version": 3
   },
   "file_extension": ".py",
   "mimetype": "text/x-python",
   "name": "python",
   "nbconvert_exporter": "python",
   "pygments_lexer": "ipython3",
   "version": "3.6.5"
  }
 },
 "nbformat": 4,
 "nbformat_minor": 2
}
